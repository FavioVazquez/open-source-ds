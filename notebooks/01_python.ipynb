{
  "cells": [
    {
      "cell_type": "code",
      "source": [
        "import sys\n",
        "print(\"Python version\")\n",
        "print (sys.version)"
      ],
      "outputs": [],
      "execution_count": 1,
      "metadata": {}
    },
    {
      "cell_type": "markdown",
      "source": [
        "Python is great for doing almost everything, but we are going to focus on the parts related to data science and its surroundings. Have fun while hearing and programming along with me, I only win succeed you do to.\n",
        "\nAll of what you are going to see bellow is written in Python 3.6"
      ],
      "metadata": {}
    },
    {
      "cell_type": "markdown",
      "source": [
        "## Ultra basics"
      ],
      "metadata": {}
    },
    {
      "cell_type": "markdown",
      "source": [
        "### Comments"
      ],
      "metadata": {}
    },
    {
      "cell_type": "code",
      "source": [
        "# Comments in the language are created with the '#'. \n",
        "\n",
        "\"\"\"\n",
        "Multilinear comments should be written with 3 double quotes in the begginning and in the end. \n",
        "\"\"\""
      ],
      "outputs": [],
      "execution_count": 2,
      "metadata": {}
    },
    {
      "cell_type": "markdown",
      "source": [
        "### Printing"
      ],
      "metadata": {}
    },
    {
      "cell_type": "markdown",
      "source": [
        "To print something to the standard output you have to use the built-in `print` function. We already used it above for printing the version of the language. "
      ],
      "metadata": {}
    },
    {
      "cell_type": "code",
      "source": [
        "print(\"hello data science world\")"
      ],
      "outputs": [],
      "execution_count": 3,
      "metadata": {}
    },
    {
      "cell_type": "code",
      "source": [
        "# In each of these cells you can also print without the print statement \n",
        "\"hello world\""
      ],
      "outputs": [],
      "execution_count": 4,
      "metadata": {}
    },
    {
      "cell_type": "markdown",
      "source": [
        "### Importing all the things"
      ],
      "metadata": {}
    },
    {
      "cell_type": "markdown",
      "source": [
        "For importing libraries you have to use the `import` statement followed by the name of the library or libraries. Is better to import one library at a time in different lines for readability. "
      ],
      "metadata": {}
    },
    {
      "cell_type": "code",
      "source": [
        "# This is a very special import\n",
        "import this"
      ],
      "outputs": [],
      "execution_count": 5,
      "metadata": {}
    },
    {
      "cell_type": "markdown",
      "source": [
        "These are the recommendations from the Python masters. Python is governed by Python Enhancement Proposals. PEP8 is one that establishes style guidelines for the language. Follow them, it will make your life much better, and others too."
      ],
      "metadata": {}
    },
    {
      "cell_type": "markdown",
      "source": [
        "You can also import specific things from libraries. "
      ],
      "metadata": {}
    },
    {
      "cell_type": "code",
      "source": [
        "# Prefer this if you can\n",
        "from operator import add"
      ],
      "outputs": [],
      "execution_count": 6,
      "metadata": {}
    },
    {
      "cell_type": "code",
      "source": [
        "add(1,2)"
      ],
      "outputs": [],
      "execution_count": 7,
      "metadata": {}
    },
    {
      "cell_type": "code",
      "source": [
        "add(2,3)"
      ],
      "outputs": [],
      "execution_count": 8,
      "metadata": {}
    },
    {
      "cell_type": "code",
      "source": [
        "# Than this \n",
        "from operator import *"
      ],
      "outputs": [],
      "execution_count": 9,
      "metadata": {}
    },
    {
      "cell_type": "code",
      "source": [
        "import operator\n",
        "\n",
        "print(operator.add(1,3))\n",
        "\nprint(add(1,3))"
      ],
      "outputs": [],
      "execution_count": 10,
      "metadata": {}
    },
    {
      "cell_type": "markdown",
      "source": [
        "### More recommendations from PEP8"
      ],
      "metadata": {}
    },
    {
      "cell_type": "markdown",
      "source": [
        "- non-public names should start with an underscore (_)\n",
        "- Use CapWords for classes\n",
        "- Use short, all-lowercase names for modules and scripts\n",
        "- Use lowercase and underscores for functions and method names"
      ],
      "metadata": {}
    },
    {
      "cell_type": "markdown",
      "source": [
        "### Basic data types"
      ],
      "metadata": {}
    },
    {
      "cell_type": "code",
      "source": [
        "a = 2\n",
        "type(a)"
      ],
      "outputs": [],
      "execution_count": 11,
      "metadata": {}
    },
    {
      "cell_type": "code",
      "source": [
        "b = 2.2\n",
        "type(b)"
      ],
      "outputs": [],
      "execution_count": 12,
      "metadata": {}
    },
    {
      "cell_type": "code",
      "source": [
        "c = True\n",
        "type(c)"
      ],
      "outputs": [],
      "execution_count": 13,
      "metadata": {}
    },
    {
      "cell_type": "code",
      "source": [
        "d = None\n",
        "type(None)"
      ],
      "outputs": [],
      "execution_count": 14,
      "metadata": {}
    },
    {
      "cell_type": "code",
      "source": [
        "e = (1, 2)\n",
        "type(e)"
      ],
      "outputs": [],
      "execution_count": 15,
      "metadata": {}
    },
    {
      "cell_type": "code",
      "source": [
        "f = [1,2]\n",
        "type(f)"
      ],
      "outputs": [],
      "execution_count": 16,
      "metadata": {}
    },
    {
      "cell_type": "code",
      "source": [
        "g = {'one': 1, 'two': 2}\n",
        "type(g)"
      ],
      "outputs": [],
      "execution_count": 17,
      "metadata": {}
    },
    {
      "cell_type": "markdown",
      "source": [
        "There are more types but with these you are good to go for almost everything in data science."
      ],
      "metadata": {}
    },
    {
      "cell_type": "markdown",
      "source": [
        "Everything in Python (at runtime) is an object.\n",
        "\n",
        "Every object has:\n",
        "\n",
        "- a single value,\n",
        "- a single type,\n",
        "- some number of attributes,\n",
        "- one or more base classes,\n",
        "- a single unique id, and\n",
        "- (zero or) one or more names, in one or more namespaces."
      ],
      "metadata": {}
    },
    {
      "cell_type": "markdown",
      "source": [
        "## Lists"
      ],
      "metadata": {}
    },
    {
      "cell_type": "markdown",
      "source": [
        "A list is a collection of items, that is stored in a variable. "
      ],
      "metadata": {}
    },
    {
      "cell_type": "code",
      "source": [
        "teachers = ['favio', 'meena', 'jay']"
      ],
      "outputs": [],
      "execution_count": 18,
      "metadata": {}
    },
    {
      "cell_type": "code",
      "source": [
        "teachers[0]"
      ],
      "outputs": [],
      "execution_count": 19,
      "metadata": {}
    },
    {
      "cell_type": "code",
      "source": [
        "teachers[1]"
      ],
      "outputs": [],
      "execution_count": 20,
      "metadata": {}
    },
    {
      "cell_type": "code",
      "source": [
        "teachers[-1]"
      ],
      "outputs": [],
      "execution_count": 21,
      "metadata": {}
    },
    {
      "cell_type": "code",
      "source": [
        "teachers[-2]"
      ],
      "outputs": [],
      "execution_count": 22,
      "metadata": {}
    },
    {
      "cell_type": "code",
      "source": [
        "type(teachers[0])"
      ],
      "outputs": [],
      "execution_count": 23,
      "metadata": {}
    },
    {
      "cell_type": "code",
      "source": [
        "teacher = teachers[-1]\n",
        "print(teacher.title())"
      ],
      "outputs": [],
      "execution_count": 24,
      "metadata": {}
    },
    {
      "cell_type": "code",
      "source": [
        "# The magic of TAB\n",
        "teacher.count"
      ],
      "outputs": [],
      "execution_count": 25,
      "metadata": {}
    },
    {
      "cell_type": "markdown",
      "source": [
        "If you want to find out the position of an element in a list, you can use the index() function."
      ],
      "metadata": {}
    },
    {
      "cell_type": "code",
      "source": [
        "teachers.index(\"meena\")"
      ],
      "outputs": [],
      "execution_count": 26,
      "metadata": {}
    },
    {
      "cell_type": "code",
      "source": [
        "teachers[1]"
      ],
      "outputs": [],
      "execution_count": 27,
      "metadata": {}
    },
    {
      "cell_type": "code",
      "source": [
        "# Finding things in your list\n",
        "print('meena' in teachers)"
      ],
      "outputs": [],
      "execution_count": 28,
      "metadata": {}
    },
    {
      "cell_type": "code",
      "source": [
        "# Adding an item to your list\n",
        "teachers.append(\"ankit\")\n",
        "teachers"
      ],
      "outputs": [],
      "execution_count": 29,
      "metadata": {}
    },
    {
      "cell_type": "code",
      "source": [
        "# Removing something from your list\n",
        "teachers.pop()"
      ],
      "outputs": [],
      "execution_count": 30,
      "metadata": {}
    },
    {
      "cell_type": "code",
      "source": [
        "teachers"
      ],
      "outputs": [],
      "execution_count": 31,
      "metadata": {}
    },
    {
      "cell_type": "code",
      "source": [
        "# Adding an item in a specific part of the list\n",
        "teachers.insert(1, 'ankit')\n",
        "teachers"
      ],
      "outputs": [],
      "execution_count": 32,
      "metadata": {}
    },
    {
      "cell_type": "code",
      "source": [
        "teachers.pop(1)"
      ],
      "outputs": [],
      "execution_count": 33,
      "metadata": {}
    },
    {
      "cell_type": "markdown",
      "source": [
        "#### Mixing your list"
      ],
      "metadata": {}
    },
    {
      "cell_type": "code",
      "source": [
        "# Mixing your list\n",
        "\n",
        "print(\"Sorting for real\\n\")\n",
        "print(teachers)\n",
        "teachers.sort()\n",
        "print(teachers)"
      ],
      "outputs": [],
      "execution_count": 34,
      "metadata": {}
    },
    {
      "cell_type": "code",
      "source": [
        "print(\"Sorting just to see\\n\")\n",
        "teachers_s = ['favio', 'meena', 'jay']\n",
        "print(sorted(teachers_s))\n",
        "print(teachers_s)"
      ],
      "outputs": [],
      "execution_count": 35,
      "metadata": {}
    },
    {
      "cell_type": "code",
      "source": [
        "print(\"Reversing the order\\n\")\n",
        "r_teachers = ['favio', 'meena', 'jay']\n",
        "print(r_teachers)\n",
        "r_teachers.reverse()\n",
        "print(r_teachers)"
      ],
      "outputs": [],
      "execution_count": 36,
      "metadata": {}
    },
    {
      "cell_type": "markdown",
      "source": [
        "#### Slicing your list"
      ],
      "metadata": {}
    },
    {
      "cell_type": "code",
      "source": [
        "print(teachers[0:1])\n",
        "print(teachers)"
      ],
      "outputs": [],
      "execution_count": 37,
      "metadata": {}
    },
    {
      "cell_type": "code",
      "source": [
        "print(teachers[:1]) # == teachers[0] \n",
        "print(teachers)"
      ],
      "outputs": [],
      "execution_count": 38,
      "metadata": {}
    },
    {
      "cell_type": "code",
      "source": [
        "print(teachers[1:])\n",
        "print(teachers)"
      ],
      "outputs": [],
      "execution_count": 39,
      "metadata": {}
    },
    {
      "cell_type": "code",
      "source": [
        "print(teachers[:])\n",
        "print(teachers)"
      ],
      "outputs": [],
      "execution_count": 40,
      "metadata": {}
    },
    {
      "cell_type": "code",
      "source": [
        "print(teachers[:-1])\n",
        "print(teachers)"
      ],
      "outputs": [],
      "execution_count": 41,
      "metadata": {}
    },
    {
      "cell_type": "code",
      "source": [
        "print(teachers[-1:])\n",
        "print(teachers)"
      ],
      "outputs": [],
      "execution_count": 42,
      "metadata": {}
    },
    {
      "cell_type": "code",
      "source": [
        "print(teachers[:-2]) # teachers[0]\n",
        "print(teachers)"
      ],
      "outputs": [],
      "execution_count": 43,
      "metadata": {}
    },
    {
      "cell_type": "markdown",
      "source": [
        "#### Ranges"
      ],
      "metadata": {}
    },
    {
      "cell_type": "code",
      "source": [
        "range(1,2)"
      ],
      "outputs": [],
      "execution_count": 44,
      "metadata": {}
    },
    {
      "cell_type": "code",
      "source": [
        "range(1,1000)"
      ],
      "outputs": [],
      "execution_count": 45,
      "metadata": {}
    },
    {
      "cell_type": "code",
      "source": [
        "range(0,2)"
      ],
      "outputs": [],
      "execution_count": 46,
      "metadata": {}
    },
    {
      "cell_type": "code",
      "source": [
        "list(range(0,10,2))"
      ],
      "outputs": [],
      "execution_count": 47,
      "metadata": {}
    },
    {
      "cell_type": "code",
      "source": [
        "list(range(1,10))"
      ],
      "outputs": [],
      "execution_count": 48,
      "metadata": {}
    },
    {
      "cell_type": "markdown",
      "source": [
        "#### Getting the lenght and more"
      ],
      "metadata": {}
    },
    {
      "cell_type": "code",
      "source": [
        "len?"
      ],
      "outputs": [],
      "execution_count": 49,
      "metadata": {}
    },
    {
      "cell_type": "code",
      "source": [
        "len([1,2])"
      ],
      "outputs": [],
      "execution_count": 50,
      "metadata": {}
    },
    {
      "cell_type": "code",
      "source": [
        "len(teachers)"
      ],
      "outputs": [],
      "execution_count": 51,
      "metadata": {}
    },
    {
      "cell_type": "code",
      "source": [
        "numbers = list(range(1,10))"
      ],
      "outputs": [],
      "execution_count": 52,
      "metadata": {}
    },
    {
      "cell_type": "code",
      "source": [
        "len(numbers)"
      ],
      "outputs": [],
      "execution_count": 53,
      "metadata": {}
    },
    {
      "cell_type": "code",
      "source": [
        "min(numbers)"
      ],
      "outputs": [],
      "execution_count": 54,
      "metadata": {}
    },
    {
      "cell_type": "code",
      "source": [
        "max(numbers)"
      ],
      "outputs": [],
      "execution_count": 55,
      "metadata": {}
    },
    {
      "cell_type": "code",
      "source": [
        "sum(numbers)"
      ],
      "outputs": [],
      "execution_count": 56,
      "metadata": {}
    },
    {
      "cell_type": "code",
      "source": [
        "mean(numbers) # :( "
      ],
      "outputs": [],
      "execution_count": 57,
      "metadata": {}
    },
    {
      "cell_type": "markdown",
      "source": [
        "## Tuples"
      ],
      "metadata": {}
    },
    {
      "cell_type": "markdown",
      "source": [
        "Tuples are basically lists that can never be changed. You define them with ( )"
      ],
      "metadata": {}
    },
    {
      "cell_type": "code",
      "source": [
        "teachers_tuple = ('favio', 'ashu', 'adi')"
      ],
      "outputs": [],
      "execution_count": 58,
      "metadata": {}
    },
    {
      "cell_type": "code",
      "source": [
        "teachers_tuple"
      ],
      "outputs": [],
      "execution_count": 59,
      "metadata": {}
    },
    {
      "cell_type": "code",
      "source": [
        "teachers_tuple[0]"
      ],
      "outputs": [],
      "execution_count": 60,
      "metadata": {}
    },
    {
      "cell_type": "code",
      "source": [
        "teachers_tuple[2]"
      ],
      "outputs": [],
      "execution_count": 61,
      "metadata": {}
    },
    {
      "cell_type": "code",
      "source": [
        "teachers_tuple[-1]"
      ],
      "outputs": [],
      "execution_count": 62,
      "metadata": {}
    },
    {
      "cell_type": "code",
      "source": [
        "teachers_tuple.append('dave') # :("
      ],
      "outputs": [],
      "execution_count": 63,
      "metadata": {}
    },
    {
      "cell_type": "code",
      "source": [
        "teachers_tuple.pop() # :( "
      ],
      "outputs": [],
      "execution_count": 64,
      "metadata": {}
    },
    {
      "cell_type": "markdown",
      "source": [
        "## Pretty printing"
      ],
      "metadata": {}
    },
    {
      "cell_type": "code",
      "source": [
        "1,2"
      ],
      "outputs": [],
      "execution_count": 65,
      "metadata": {}
    },
    {
      "cell_type": "code",
      "source": [
        "name = \"favio\"\n",
        "print(\"My name is \" + name)"
      ],
      "outputs": [],
      "execution_count": 66,
      "metadata": {}
    },
    {
      "cell_type": "code",
      "source": [
        "name_list = [\"favio\"]\n",
        "print(\"My name is \" + name_list[0])"
      ],
      "outputs": [],
      "execution_count": 67,
      "metadata": {}
    },
    {
      "cell_type": "code",
      "source": [
        "name_tuple = (\"favio\")\n",
        "print(\"My name is \" + name_tuple[0])"
      ],
      "outputs": [],
      "execution_count": 68,
      "metadata": {}
    },
    {
      "cell_type": "code",
      "source": [
        "teachers = ['favio', 'ashu', 'adi']\n",
        "\nprint(\"The teachers names are \" + teachers[0] + \", \" + teachers[1] + \" and \" + teachers[2])"
      ],
      "outputs": [],
      "execution_count": 69,
      "metadata": {}
    },
    {
      "cell_type": "markdown",
      "source": [
        "That's not that pretty anymore. Luckily we have a better way."
      ],
      "metadata": {}
    },
    {
      "cell_type": "code",
      "source": [
        "teachers = ['favio', 'ashu', 'adi']\n",
        "\n\nprint(\"The teachers names are {}, {} and {}\".format(teachers[0],teachers[1],teachers[2]))"
      ],
      "outputs": [],
      "execution_count": 70,
      "metadata": {}
    },
    {
      "cell_type": "code",
      "source": [
        "teachers = [\"favio\", \"matt\", \"haley\"]\n",
        "\n\nprint(\"The teachers names are {}, {} and {}\".format(teachers[0].title(),teachers[1].title(),teachers[2].title()))"
      ],
      "outputs": [],
      "execution_count": 71,
      "metadata": {}
    },
    {
      "cell_type": "code",
      "source": [
        "print(\"{}\".format(teachers))"
      ],
      "outputs": [],
      "execution_count": 72,
      "metadata": {}
    },
    {
      "cell_type": "code",
      "source": [
        "print(\"The teachers names are {}\".format(teachers)) # Don't use this ;)"
      ],
      "outputs": [],
      "execution_count": 73,
      "metadata": {}
    },
    {
      "cell_type": "markdown",
      "source": [
        "## The for loop"
      ],
      "metadata": {}
    },
    {
      "cell_type": "markdown",
      "source": [
        "```python\n",
        "for items in thing:\n",
        "    do something\n",
        "```"
      ],
      "metadata": {}
    },
    {
      "cell_type": "code",
      "source": [
        "teachers = ['favio', 'ashu', 'adi']\n",
        "\n",
        "for teacher in teachers:\n",
        "    print(teacher)"
      ],
      "outputs": [],
      "execution_count": 74,
      "metadata": {}
    },
    {
      "cell_type": "code",
      "source": [
        "# Getting the index too\n",
        "\n",
        "for idx, teacher in enumerate(teachers):\n",
        "    print(idx, teacher)"
      ],
      "outputs": [],
      "execution_count": 75,
      "metadata": {}
    },
    {
      "cell_type": "code",
      "source": [
        "for number in range(0,10):\n",
        "    print(number*2)"
      ],
      "outputs": [],
      "execution_count": 76,
      "metadata": {}
    },
    {
      "cell_type": "markdown",
      "source": [
        "Oh, the if statement is very simple. Just like any other language."
      ],
      "metadata": {}
    },
    {
      "cell_type": "code",
      "source": [
        "lie = True\n",
        "\n",
        "if lie == True: # if lie:\n",
        "    print(\"Liar!!\")"
      ],
      "outputs": [],
      "execution_count": 77,
      "metadata": {}
    },
    {
      "cell_type": "code",
      "source": [
        "word = input()\n",
        "if word == \"Lie\":\n",
        "    print(\"You lied\")\n",
        "else:\n",
        "    if word == \"True\":\n",
        "        print(\"You are ok\")\n",
        "    else:\n",
        "        print(\"Invalid Input\")"
      ],
      "outputs": [],
      "execution_count": 80,
      "metadata": {}
    },
    {
      "cell_type": "code",
      "source": [
        "# This is better. Flat is better than nested.\n",
        "word = input()\n",
        "if word == \"Lie\":\n",
        "    print(\"You lied\")\n",
        "elif word == \"True\":\n",
        "    print(\"You are ok\")\n",
        "else:\n",
        "    print(\"Invalid Input\")"
      ],
      "outputs": [],
      "execution_count": 84,
      "metadata": {}
    },
    {
      "cell_type": "markdown",
      "source": [
        "## The majestic list comprehensions"
      ],
      "metadata": {}
    },
    {
      "cell_type": "markdown",
      "source": [
        "```python\n",
        "[do something for item in items]\n",
        "```"
      ],
      "metadata": {}
    },
    {
      "cell_type": "code",
      "source": [
        "[item*2 for item in range(0,10)]"
      ],
      "outputs": [],
      "execution_count": 85,
      "metadata": {}
    },
    {
      "cell_type": "code",
      "source": [
        "numbers = [1, 2, 3, 4, 5]\n",
        "\n",
        "doubled_odds = []\n",
        "for n in numbers:\n",
        "    if n % 2 == 1:\n",
        "        doubled_odds.append(n * 2)"
      ],
      "outputs": [],
      "execution_count": 86,
      "metadata": {}
    },
    {
      "cell_type": "code",
      "source": [
        "doubled_odds"
      ],
      "outputs": [],
      "execution_count": 87,
      "metadata": {}
    },
    {
      "cell_type": "code",
      "source": [
        "numbers = [1,2,3,4,5]\n",
        "\n[n*2 for n in numbers if n%2==1]"
      ],
      "outputs": [],
      "execution_count": 88,
      "metadata": {}
    },
    {
      "cell_type": "code",
      "source": [
        "numbers = [1, 2, 3, 4, 5]\n",
        "\ndoubled_odds = [n * 2 for n in numbers if n % 2 == 1]"
      ],
      "outputs": [],
      "execution_count": 89,
      "metadata": {}
    },
    {
      "cell_type": "code",
      "source": [
        "doubled_odds"
      ],
      "outputs": [],
      "execution_count": 90,
      "metadata": {}
    },
    {
      "cell_type": "code",
      "source": [
        "# Pretty\n",
        "doubled_odds = [\n",
        "    n * 2\n",
        "    for n in numbers\n",
        "    if n % 2 == 1\n",
        "]"
      ],
      "outputs": [],
      "execution_count": 91,
      "metadata": {}
    },
    {
      "cell_type": "code",
      "source": [
        "doubled_odds"
      ],
      "outputs": [],
      "execution_count": 92,
      "metadata": {}
    },
    {
      "cell_type": "markdown",
      "source": [
        "## Dictionaries"
      ],
      "metadata": {}
    },
    {
      "cell_type": "code",
      "source": [
        "# Create an empty dictionary.\n",
        "python_words = {} # or dict()\n",
        "\n",
        "# Fill the dictionary, pair by pair.\n",
        "python_words['list'] ='A collection of values that are not connected, but have an order.'\n",
        "python_words['dictionary'] = 'A collection of key-value pairs.'\n",
        "python_words['churn'] = 'Problem'\n",
        "\n",
        "# Print out the items in the dictionary.\n",
        "for word, meaning in python_words.items():\n",
        "    print(\"\\nWord: {}\".format(word))\n",
        "    print(\"Meaning: {}\".format(meaning))"
      ],
      "outputs": [],
      "execution_count": 93,
      "metadata": {}
    },
    {
      "cell_type": "code",
      "source": [
        "my_dict = {'key_1': 'value_1',\n",
        "    'key_2': 'value_2',\n",
        "    'key_3': 'value_3',\n",
        "    }\n",
        "\n",
        "for key, value in my_dict.items():\n",
        "    print('\\nKey: %s' % key)\n",
        "    print('Value: %s' % value)"
      ],
      "outputs": [],
      "execution_count": 94,
      "metadata": {}
    },
    {
      "cell_type": "code",
      "source": [
        "my_dict = {'key_1': 'value_1',\n",
        "    'key_2': 'value_2',\n",
        "    'key_3': 'value_3',\n",
        "    }\n",
        "\n",
        "for value in my_dict.keys():\n",
        "    print('Key: %s' % value)"
      ],
      "outputs": [],
      "execution_count": 95,
      "metadata": {}
    },
    {
      "cell_type": "code",
      "source": [
        "my_dict = {'key_1': 'value_1',\n",
        "    'key_2': 'value_2',\n",
        "    'key_3': 'value_3',\n",
        "    }\n",
        "\n",
        "for value in my_dict.values():\n",
        "    print('Value: %s' % value)"
      ],
      "outputs": [],
      "execution_count": 96,
      "metadata": {}
    },
    {
      "cell_type": "markdown",
      "source": [
        "## Functions"
      ],
      "metadata": {}
    },
    {
      "cell_type": "markdown",
      "source": [
        "Functions are a set of actions that we group together, and give a name to."
      ],
      "metadata": {}
    },
    {
      "cell_type": "markdown",
      "source": [
        "```python\n",
        "# Let's define a function.\n",
        "def name(arg_1, arg_2):\n",
        "    # Do something\n",
        "    return #something\n",
        "\n",
        "# Use name to call the function.\n",
        "name(val_1, val_2)\n",
        "```"
      ],
      "metadata": {}
    },
    {
      "cell_type": "code",
      "source": [
        "def add(a,b):\n",
        "    return a+b"
      ],
      "outputs": [],
      "execution_count": 97,
      "metadata": {}
    },
    {
      "cell_type": "code",
      "source": [
        "add(1,2)"
      ],
      "outputs": [],
      "execution_count": 98,
      "metadata": {}
    },
    {
      "cell_type": "code",
      "source": [
        "def describe_someone(first_name, last_name, age=None, programmer=None, singer=None):\n",
        "    \"\"\"\n",
        "    Describes some features of a person.\n",
        "\n",
        "    :param first_name: First name of the person (required)\n",
        "    :param last_name: Last name of the person (required)\n",
        "    :param age: Age of the person. Default: None\n",
        "    :param age: Is the person a programmer. Default: None\n",
        "    :param singer: Is the person a singer. Default: None\n",
        "\n",
        "    :return: Nothing\n",
        "    \"\"\"\n",
        "    \n",
        "    # Required information:\n",
        "    print(\"First name: {}\".format(first_name.title()))\n",
        "    print(\"Last name: {}\".format(last_name.title()))\n",
        "    \n",
        "    # Optional information:\n",
        "    if age:\n",
        "        print(\"Age: %d\" % age)\n",
        "    if programmer == \"yes\":\n",
        "        print(\"Oh you are a programmer. Welcome :)\")\n",
        "    if singer == \"yes\":\n",
        "        print(\"Please sing for us :)\")\n",
        "    \n",
        "    # Blank line at end.\n",
        "    print(\"\\n\")"
      ],
      "outputs": [],
      "execution_count": 99,
      "metadata": {}
    },
    {
      "cell_type": "code",
      "source": [
        "describe_someone?"
      ],
      "outputs": [],
      "execution_count": 100,
      "metadata": {}
    },
    {
      "cell_type": "code",
      "source": [
        "describe_someone(\"matt\", \"dancho\")"
      ],
      "outputs": [],
      "execution_count": 101,
      "metadata": {}
    },
    {
      "cell_type": "code",
      "source": [
        "describe_someone(\"favio\", \"vazquez\", programmer=\"yes\")"
      ],
      "outputs": [],
      "execution_count": 102,
      "metadata": {}
    },
    {
      "cell_type": "code",
      "source": [
        "describe_someone(first_name=\"carl\", \"powers\") # :("
      ],
      "outputs": [],
      "execution_count": 104,
      "metadata": {}
    },
    {
      "cell_type": "code",
      "source": [
        "describe_someone(first_name=\"carl\", last_name=\"powers\") # :("
      ],
      "outputs": [],
      "execution_count": 105,
      "metadata": {}
    },
    {
      "cell_type": "code",
      "source": [
        "describe_someone(first_name=\"carl\", last_name=\"powers\", age=21, singer=\"yes\")"
      ],
      "outputs": [],
      "execution_count": 106,
      "metadata": {}
    },
    {
      "cell_type": "code",
      "source": [
        "describe_someone(\"carl\", \"powers\", 21, \"yes\", \"no\")"
      ],
      "outputs": [],
      "execution_count": 107,
      "metadata": {}
    },
    {
      "cell_type": "code",
      "source": [
        "describe_someone(\"carl\", \"powers\", 21, \"yes\", \"yes\")"
      ],
      "outputs": [],
      "execution_count": 108,
      "metadata": {}
    },
    {
      "cell_type": "markdown",
      "source": [
        "### Accepting a sequence of arbitrary length"
      ],
      "metadata": {}
    },
    {
      "cell_type": "code",
      "source": [
        "def multiplier(num_1, num_2, *nums):\n",
        "    \"\"\"\n",
        "    Multiplies an arbitrary number of numbers.\n",
        "    :param num_1: first number to multiply\n",
        "    :param num_2: second number to multiply\n",
        "    :paran *nums: more numbers to multiply\n",
        "    \n",
        "    :return: result of multiplication of n numbers\n",
        "    \"\"\"\n",
        "    mul = num_1 * num_2\n",
        "    \n",
        "    # Then add any other numbers that were sent.\n",
        "    for num in nums:\n",
        "        mul = mul * num\n",
        "        \n",
        "    # Print the results.\n",
        "    return(mul)"
      ],
      "outputs": [],
      "execution_count": 109,
      "metadata": {}
    },
    {
      "cell_type": "code",
      "source": [
        "# Let's multiply some numbers.\n",
        "multiplier(1, 2, 3, 4)"
      ],
      "outputs": [],
      "execution_count": 110,
      "metadata": {}
    },
    {
      "cell_type": "code",
      "source": [
        "multiplier(1, 2)"
      ],
      "outputs": [],
      "execution_count": 111,
      "metadata": {}
    },
    {
      "cell_type": "code",
      "source": [
        "multiplier(1, 2, 3, 4, 14, 22, 60)"
      ],
      "outputs": [],
      "execution_count": 112,
      "metadata": {}
    }
  ],
  "metadata": {
    "jupytext": {
      "formats": "ipynb,py:light",
      "text_representation": {
        "extension": ".py",
        "format_name": "light",
        "format_version": "1.3",
        "jupytext_version": "0.8.3"
      }
    },
    "kernel_info": {
      "name": "python3"
    },
    "kernelspec": {
      "name": "python3",
      "language": "python",
      "display_name": "Python 3"
    },
    "language_info": {
      "name": "python",
      "version": "3.7.3",
      "mimetype": "text/x-python",
      "codemirror_mode": {
        "name": "ipython",
        "version": 3
      },
      "pygments_lexer": "ipython3",
      "nbconvert_exporter": "python",
      "file_extension": ".py"
    },
    "nbTranslate": {
      "displayLangs": [
        "*"
      ],
      "hotkey": "alt-t",
      "langInMainMenu": true,
      "sourceLang": "en",
      "targetLang": "fr",
      "useGoogleTranslate": true
    },
    "nteract": {
      "version": "0.2.0"
    }
  },
  "nbformat": 4,
  "nbformat_minor": 2
}