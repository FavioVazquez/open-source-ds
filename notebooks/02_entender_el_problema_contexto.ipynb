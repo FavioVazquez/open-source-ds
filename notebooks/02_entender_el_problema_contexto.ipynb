{
 "cells": [
  {
   "cell_type": "markdown",
   "metadata": {},
   "source": [
    "# Entendiento el problema de negocio y su contexto"
   ]
  },
  {
   "cell_type": "code",
   "execution_count": null,
   "metadata": {},
   "outputs": [],
   "source": [
    "# import libraries\n",
    "import pandas as pd\n",
    "from optimus import Optimus\n",
    "op = Optimus()"
   ]
  },
  {
   "cell_type": "code",
   "execution_count": null,
   "metadata": {},
   "outputs": [],
   "source": [
    "# Read the data\n",
    "# Data from http://rpubs.com/rhuebner/HRCodebook-13\n",
    "df = op.read.csv(\"data/hr-data.csv\", header=True)"
   ]
  },
  {
   "cell_type": "code",
   "execution_count": null,
   "metadata": {},
   "outputs": [],
   "source": [
    "# See the data\n",
    "df.table()"
   ]
  },
  {
   "cell_type": "markdown",
   "metadata": {},
   "source": [
    "![](imgs/1.png)"
   ]
  },
  {
   "cell_type": "code",
   "execution_count": null,
   "metadata": {},
   "outputs": [],
   "source": [
    "df.describe().table()"
   ]
  },
  {
   "cell_type": "markdown",
   "metadata": {},
   "source": [
    "# ¿Cuánto nos cuesta perder a un empleado?"
   ]
  },
  {
   "cell_type": "code",
   "execution_count": null,
   "metadata": {},
   "outputs": [],
   "source": [
    "# Calculate avg salary\n",
    "avg_salary = df.agg({\"PayRate\":\"avg\"}).first()[0]"
   ]
  },
  {
   "cell_type": "code",
   "execution_count": null,
   "metadata": {},
   "outputs": [],
   "source": [
    "avg_salary_per_year = avg_salary * 2080"
   ]
  },
  {
   "cell_type": "code",
   "execution_count": null,
   "metadata": {},
   "outputs": [],
   "source": [
    "avg_salary_per_year"
   ]
  },
  {
   "cell_type": "code",
   "execution_count": null,
   "metadata": {},
   "outputs": [],
   "source": [
    "benefits = 14928"
   ]
  },
  {
   "cell_type": "code",
   "execution_count": null,
   "metadata": {},
   "outputs": [],
   "source": [
    "salary = round(avg_salary_per_year + benefits,0)\n",
    "salary"
   ]
  },
  {
   "cell_type": "code",
   "execution_count": null,
   "metadata": {},
   "outputs": [],
   "source": [
    "# Costos directos\n",
    "separation = 500\n",
    "vacancy = 8000\n",
    "acquisition = 3000\n",
    "onboard = 4000\n",
    "total_direct = separation + vacancy + acquisition + onboard\n",
    "total_direct"
   ]
  },
  {
   "cell_type": "code",
   "execution_count": null,
   "metadata": {},
   "outputs": [],
   "source": [
    "# Productividad perdida\n",
    "lost_revenue = 166000 # https://www.statista.com/statistics/934306/professional-services-worldwide-revenue-per-employee/\n",
    "work_days = 240\n",
    "position_vacancy_days = 40\n",
    "onboarding_days_training = 60\n",
    "effectiveness_during_onboarding = 0.50\n",
    "lost_productivity = lost_revenue / work_days * (position_vacancy_days + onboarding_days_training * effectiveness_during_onboarding)\n",
    "lost_productivity"
   ]
  },
  {
   "cell_type": "code",
   "execution_count": null,
   "metadata": {},
   "outputs": [],
   "source": [
    "# Dinero ahorrado por pérdida\n",
    "salary_benefit_reduction = salary / work_days * position_vacancy_days\n",
    "salary_benefit_reduction"
   ]
  },
  {
   "cell_type": "code",
   "execution_count": null,
   "metadata": {},
   "outputs": [],
   "source": [
    "# Costo de pérdida por empleado\n",
    "cost_per_employee = total_direct + lost_productivity - salary_benefit_reduction\n",
    "cost_per_employee"
   ]
  },
  {
   "cell_type": "code",
   "execution_count": null,
   "metadata": {},
   "outputs": [],
   "source": [
    "print(\"Total de empleados: {}\".format(df.count()))\n",
    "print(\"Empleados perdidos: {}\".format(df.where(\"Termd == 1\").count()))"
   ]
  },
  {
   "cell_type": "code",
   "execution_count": null,
   "metadata": {},
   "outputs": [],
   "source": [
    "# Costo total de pérdida de empleados\n",
    "employee_number = df.count()\n",
    "attrition = df.where(\"Termd == 1\").count()\n",
    "total_cost = attrition * cost_per_employee\n",
    "total_cost"
   ]
  },
  {
   "cell_type": "markdown",
   "metadata": {},
   "source": [
    "## El costo de perder un empleado es de 50.583 dólares al año\n",
    "## Al perder 103 empleados hemos perdido 5.210.083 dólares aproximandamente"
   ]
  }
 ],
 "metadata": {
  "kernelspec": {
   "display_name": "Python 3",
   "language": "python",
   "name": "python3"
  },
  "language_info": {
   "codemirror_mode": {
    "name": "ipython",
    "version": 3
   },
   "file_extension": ".py",
   "mimetype": "text/x-python",
   "name": "python",
   "nbconvert_exporter": "python",
   "pygments_lexer": "ipython3",
   "version": "3.7.3"
  }
 },
 "nbformat": 4,
 "nbformat_minor": 4
}
