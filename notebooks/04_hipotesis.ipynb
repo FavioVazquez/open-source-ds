{
 "cells": [
  {
   "cell_type": "markdown",
   "metadata": {},
   "source": [
    "# Hipótesis de trabajo"
   ]
  },
  {
   "cell_type": "code",
   "execution_count": null,
   "metadata": {},
   "outputs": [],
   "source": [
    "# import libraries\n",
    "import pandas as pd\n",
    "from optimus import Optimus\n",
    "op = Optimus()"
   ]
  },
  {
   "cell_type": "code",
   "execution_count": null,
   "metadata": {},
   "outputs": [],
   "source": [
    "# Read the data\n",
    "# Data from http://rpubs.com/rhuebner/HRCodebook-13\n",
    "df = op.read.csv(\"data/hr-data.csv\", header=True)"
   ]
  },
  {
   "cell_type": "code",
   "execution_count": null,
   "metadata": {},
   "outputs": [],
   "source": [
    "# See the data\n",
    "df.table()"
   ]
  },
  {
   "cell_type": "code",
   "execution_count": null,
   "metadata": {},
   "outputs": [],
   "source": [
    "# Basic data cleaning\n",
    "from pyspark.sql.functions import when, count, col, isnull\n",
    "\n",
    "\n",
    "integer_cols = [\"MaritalStatusID\", \"EmpStatusID\", \"DeptID\", \"PerfScoreID\", \"PositionID\", \"Termd\", \"ManagerID\", \n",
    "                \"EmpSatisfaction\", \"SpecialProjectsCount\", \"DaysLateLast30\"]\n",
    "float_cols = [\"PayRate\", \"EngagementSurvey\"]\n",
    "\n",
    "for col_name in integer_cols:\n",
    "    df = df.withColumn(col_name, col(col_name).cast('int'))\n",
    "    \n",
    "for col_name in float_cols:\n",
    "    df = df.withColumn(col_name, col(col_name).cast('float'))\n",
    "    \n",
    "df = df.dropna(how=\"all\")\n",
    "df = df.cols.years_between(\"DOB\", date_format=\"mm/dd/yy\",output_cols=\"Age\")"
   ]
  },
  {
   "cell_type": "code",
   "execution_count": null,
   "metadata": {},
   "outputs": [],
   "source": [
    "import pyspark.sql.functions as F\n",
    "from pyspark.sql import Window\n",
    "\n",
    "window = Window.rowsBetween(Window.unboundedPreceding,Window.unboundedFollowing)\n",
    "\n",
    "def count_to_pct(df, columns):\n",
    "    return (df.groupBy(*columns, \"Termd\")\n",
    "            .agg(F.count(\"Termd\").alias(\"count_with_churn\"))\n",
    "            .orderBy('count_with_churn', ascending=False)\n",
    "            .filter(col(\"Termd\") == 1)\n",
    "            .groupBy(*columns)\n",
    "            .agg(F.sum(\"count_with_churn\").alias(\"count\"))\n",
    "            .withColumn('total',F.sum(\"count\").over(window))\n",
    "            .withColumn('pct',F.round(col('count')/col('total'),2))\n",
    "            .drop(\"total\"))"
   ]
  },
  {
   "cell_type": "markdown",
   "metadata": {},
   "source": [
    "## ¿Es un problema departamental?"
   ]
  },
  {
   "cell_type": "code",
   "execution_count": null,
   "metadata": {},
   "outputs": [],
   "source": [
    "df.groupby(\"Department\").count().table()"
   ]
  },
  {
   "cell_type": "code",
   "execution_count": null,
   "metadata": {},
   "outputs": [],
   "source": [
    "df.groupby(\"Department\").sum(\"Termd\").table()"
   ]
  },
  {
   "cell_type": "code",
   "execution_count": null,
   "metadata": {},
   "outputs": [],
   "source": [
    "count_to_pct(df, columns=[\"Department\"]).table()"
   ]
  },
  {
   "cell_type": "markdown",
   "metadata": {},
   "source": [
    "## ¿Es un problema de estado civil?"
   ]
  },
  {
   "cell_type": "code",
   "execution_count": null,
   "metadata": {},
   "outputs": [],
   "source": [
    "df.groupby(\"MaritalDesc\").count().table()"
   ]
  },
  {
   "cell_type": "code",
   "execution_count": null,
   "metadata": {},
   "outputs": [],
   "source": [
    "df.groupby(\"MaritalDesc\").sum(\"Termd\").table()"
   ]
  },
  {
   "cell_type": "code",
   "execution_count": null,
   "metadata": {},
   "outputs": [],
   "source": [
    "count_to_pct(df, columns=[\"MaritalDesc\"]).table()"
   ]
  },
  {
   "cell_type": "markdown",
   "metadata": {},
   "source": [
    "## ¿Es un problema racial?"
   ]
  },
  {
   "cell_type": "code",
   "execution_count": null,
   "metadata": {},
   "outputs": [],
   "source": [
    "df.groupby(\"RaceDesc\").count().table()"
   ]
  },
  {
   "cell_type": "code",
   "execution_count": null,
   "metadata": {},
   "outputs": [],
   "source": [
    "df.groupby(\"RaceDesc\").sum(\"Termd\").table()"
   ]
  },
  {
   "cell_type": "code",
   "execution_count": null,
   "metadata": {},
   "outputs": [],
   "source": [
    "count_to_pct(df, columns=[\"RaceDesc\"]).table()"
   ]
  },
  {
   "cell_type": "markdown",
   "metadata": {},
   "source": [
    "## ¿Es un problema de performance?"
   ]
  },
  {
   "cell_type": "code",
   "execution_count": null,
   "metadata": {},
   "outputs": [],
   "source": [
    "df.groupby(\"PerformanceScore\").count().table()"
   ]
  },
  {
   "cell_type": "code",
   "execution_count": null,
   "metadata": {},
   "outputs": [],
   "source": [
    "df.groupby(\"PerformanceScore\").sum(\"Termd\").table()"
   ]
  },
  {
   "cell_type": "code",
   "execution_count": null,
   "metadata": {},
   "outputs": [],
   "source": [
    "count_to_pct(df, columns=[\"PerformanceScore\"]).table()"
   ]
  },
  {
   "cell_type": "markdown",
   "metadata": {},
   "source": [
    "## ¿Tendrá algo que ver con el manager?"
   ]
  },
  {
   "cell_type": "code",
   "execution_count": null,
   "metadata": {},
   "outputs": [],
   "source": [
    "count_to_pct(df, columns=[\"ManagerName\"]).table(21)"
   ]
  },
  {
   "cell_type": "markdown",
   "metadata": {},
   "source": [
    "## ¿Es un problema de edad?"
   ]
  },
  {
   "cell_type": "code",
   "execution_count": null,
   "metadata": {},
   "outputs": [],
   "source": [
    "from pyspark.ml.feature import Bucketizer\n",
    "splits = [10, 20, 30, 40, 50, 60, float(\"inf\")]\n",
    "\n",
    "bucketizer = Bucketizer(splits=splits, inputCol=\"Age\", outputCol=\"Age_bucket\")\n",
    "df = bucketizer.transform(df)"
   ]
  },
  {
   "cell_type": "code",
   "execution_count": null,
   "metadata": {},
   "outputs": [],
   "source": [
    "df.groupby(\"Age_bucket\").avg(\"Age\").table()"
   ]
  },
  {
   "cell_type": "code",
   "execution_count": null,
   "metadata": {},
   "outputs": [],
   "source": [
    "df.groupby(\"Age_bucket\").count().table()"
   ]
  },
  {
   "cell_type": "code",
   "execution_count": null,
   "metadata": {},
   "outputs": [],
   "source": [
    "df.groupby(\"Age_bucket\").sum(\"Termd\").table()"
   ]
  },
  {
   "cell_type": "code",
   "execution_count": null,
   "metadata": {},
   "outputs": [],
   "source": [
    "count_to_pct(df, columns=[\"Age_bucket\"]).table(21)"
   ]
  },
  {
   "cell_type": "markdown",
   "metadata": {},
   "source": [
    "### Estudio de correlación"
   ]
  },
  {
   "cell_type": "code",
   "execution_count": null,
   "metadata": {},
   "outputs": [],
   "source": [
    "df.plot.correlation([\"Age\",\"PayRate\",\"Termd\", \"EmpSatisfaction\", \"SpecialProjectsCount\", \"EngagementSurvey\"])"
   ]
  }
 ],
 "metadata": {
  "kernelspec": {
   "display_name": "Python 3",
   "language": "python",
   "name": "python3"
  },
  "language_info": {
   "codemirror_mode": {
    "name": "ipython",
    "version": 3
   },
   "file_extension": ".py",
   "mimetype": "text/x-python",
   "name": "python",
   "nbconvert_exporter": "python",
   "pygments_lexer": "ipython3",
   "version": "3.7.3"
  }
 },
 "nbformat": 4,
 "nbformat_minor": 4
}
