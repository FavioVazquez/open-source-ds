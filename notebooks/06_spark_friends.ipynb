{
  "cells": [
    {
      "cell_type": "markdown",
      "source": [
        "# Spark and Friends"
      ],
      "metadata": {}
    },
    {
      "cell_type": "markdown",
      "source": [
        "## Reading data"
      ],
      "metadata": {}
    },
    {
      "cell_type": "code",
      "source": [
        "from pyspark.sql import SparkSession\n",
        "spark = SparkSession.builder.getOrCreate()\n",
        "df_sp = spark.read.csv(\"../data/sample_stocks.csv\", header=True)"
      ],
      "outputs": [],
      "execution_count": 3,
      "metadata": {}
    },
    {
      "cell_type": "code",
      "source": [
        "from optimus import Optimus\n",
        "op = Optimus()\n",
        "df_op = op.load.csv(\"https://raw.githubusercontent.com/databricks/koalas/master/data/sample_stocks.csv\")"
      ],
      "outputs": [],
      "execution_count": 2,
      "metadata": {}
    },
    {
      "cell_type": "code",
      "source": [
        "import databricks.koalas as ks\n",
        "\ndf = ks.read_csv(\"https://raw.githubusercontent.com/databricks/koalas/master/data/sample_stocks.csv\") # error"
      ],
      "outputs": [],
      "execution_count": null,
      "metadata": {}
    },
    {
      "cell_type": "code",
      "source": [
        "import pandas as pd \n",
        "\ndf_pd = pd.read_csv(\"https://raw.githubusercontent.com/databricks/koalas/master/data/sample_stocks.csv\")"
      ],
      "outputs": [],
      "execution_count": null,
      "metadata": {}
    },
    {
      "cell_type": "code",
      "source": [
        "import databricks.koalas as ks\n",
        "\ndf_ks = ks.read_csv(\"../data/sample_stocks.csv\")"
      ],
      "outputs": [],
      "execution_count": null,
      "metadata": {}
    },
    {
      "cell_type": "code",
      "source": [
        "from optimus import Optimus\n",
        "op = Optimus()\n",
        "df_op_local = op.load.csv(\"../data/sample_stocks.csv\")"
      ],
      "outputs": [],
      "execution_count": null,
      "metadata": {}
    },
    {
      "cell_type": "code",
      "source": [
        "print(type(df_sp))\n",
        "print(type(df_op))\n",
        "print(type(df_pd))\n",
        "print(type(df_ks))"
      ],
      "outputs": [],
      "execution_count": null,
      "metadata": {}
    },
    {
      "cell_type": "code",
      "source": [
        "df_sp.show(1)"
      ],
      "outputs": [],
      "execution_count": null,
      "metadata": {}
    },
    {
      "cell_type": "code",
      "source": [
        "df_op.show(1)"
      ],
      "outputs": [],
      "execution_count": null,
      "metadata": {}
    },
    {
      "cell_type": "code",
      "source": [
        "df_pd.head(1)"
      ],
      "outputs": [],
      "execution_count": null,
      "metadata": {}
    },
    {
      "cell_type": "code",
      "source": [
        "df_ks.show()"
      ],
      "outputs": [],
      "execution_count": null,
      "metadata": {}
    },
    {
      "cell_type": "code",
      "source": [
        "df_ks.head(1)"
      ],
      "outputs": [],
      "execution_count": null,
      "metadata": {}
    },
    {
      "cell_type": "code",
      "source": [
        "df_op.table(1)"
      ],
      "outputs": [],
      "execution_count": null,
      "metadata": {}
    },
    {
      "cell_type": "markdown",
      "source": [
        "## Selecting data"
      ],
      "metadata": {}
    },
    {
      "cell_type": "markdown",
      "source": [
        "### With Spark"
      ],
      "metadata": {}
    },
    {
      "cell_type": "code",
      "source": [
        "%%time\n",
        "df_sp[\"Date\",\"Open\",\"High\",\"Volume\"].show(1)"
      ],
      "outputs": [],
      "execution_count": null,
      "metadata": {}
    },
    {
      "cell_type": "code",
      "source": [
        "%%time\n",
        "df_sp.select(\"Date\",\"Open\",\"High\",\"Volume\").show(1)"
      ],
      "outputs": [],
      "execution_count": null,
      "metadata": {}
    },
    {
      "cell_type": "markdown",
      "source": [
        "### With Optimus"
      ],
      "metadata": {}
    },
    {
      "cell_type": "code",
      "source": [
        "%%time\n",
        "df_op[\"Date\",\"Open\",\"High\",\"Volume\"].table(1)"
      ],
      "outputs": [],
      "execution_count": null,
      "metadata": {}
    },
    {
      "cell_type": "code",
      "source": [
        "%%time\n",
        "df_op.select(\"Date\",\"Open\",\"High\",\"Volume\").table(1)"
      ],
      "outputs": [],
      "execution_count": null,
      "metadata": {}
    },
    {
      "cell_type": "code",
      "source": [
        "df_op.cols.select([0,1,2,5]).table(1)"
      ],
      "outputs": [],
      "execution_count": null,
      "metadata": {}
    },
    {
      "cell_type": "markdown",
      "source": [
        "### With Pandas"
      ],
      "metadata": {}
    },
    {
      "cell_type": "code",
      "source": [
        "%%time\n",
        "df_pd[[\"Date\",\"Open\",\"High\",\"Volume\"]].head(1)"
      ],
      "outputs": [],
      "execution_count": null,
      "metadata": {}
    },
    {
      "cell_type": "code",
      "source": [
        "%%time\n",
        "df_pd.iloc[:, [0,1,2,4]].head(1)"
      ],
      "outputs": [],
      "execution_count": null,
      "metadata": {}
    },
    {
      "cell_type": "markdown",
      "source": [
        "### With Koalas"
      ],
      "metadata": {}
    },
    {
      "cell_type": "code",
      "source": [
        "%%time\n",
        "df_ks[[\"Date\",\"Open\",\"High\",\"Volume\"]].head(1)"
      ],
      "outputs": [],
      "execution_count": null,
      "metadata": {}
    },
    {
      "cell_type": "code",
      "source": [
        "df_ks.iloc[:, [0,1,2,4]].head(1) # will fail"
      ],
      "outputs": [],
      "execution_count": null,
      "metadata": {}
    },
    {
      "cell_type": "code",
      "source": [
        "df_ks.select(\"Date\",\"Open\",\"High\",\"Volume\") # Will fail"
      ],
      "outputs": [],
      "execution_count": null,
      "metadata": {}
    },
    {
      "cell_type": "markdown",
      "source": [
        "## More advance stuff"
      ],
      "metadata": {}
    },
    {
      "cell_type": "code",
      "source": [
        "%%time\n",
        "# Pandas\n",
        "df_pd[\"Symbol\"].value_counts()"
      ],
      "outputs": [],
      "execution_count": null,
      "metadata": {}
    },
    {
      "cell_type": "code",
      "source": [
        "%%time\n",
        "# Koalas\n",
        "df_ks[\"Symbol\"].value_counts()"
      ],
      "outputs": [],
      "execution_count": null,
      "metadata": {}
    },
    {
      "cell_type": "code",
      "source": [
        "%%time\n",
        "# Spark\n",
        "df_sp.groupBy('Symbol').count().show()"
      ],
      "outputs": [],
      "execution_count": null,
      "metadata": {}
    },
    {
      "cell_type": "code",
      "source": [
        "%%time\n",
        "# Optimus\n",
        "df_op.groupBy('Symbol').count().show()"
      ],
      "outputs": [],
      "execution_count": null,
      "metadata": {}
    },
    {
      "cell_type": "code",
      "source": [
        "%%time\n",
        "# Optimus\n",
        "df_op.cols.frequency(\"Symbol\")[\"Symbol\"]"
      ],
      "outputs": [],
      "execution_count": null,
      "metadata": {}
    },
    {
      "cell_type": "markdown",
      "source": [
        "### One-Hot-Encoding"
      ],
      "metadata": {}
    },
    {
      "cell_type": "code",
      "source": [
        "%%time\n",
        "pd.get_dummies(data=df_pd, columns=[\"Symbol\"]).head(1) # This is crazy easy"
      ],
      "outputs": [],
      "execution_count": null,
      "metadata": {}
    },
    {
      "cell_type": "code",
      "source": [
        "%%time\n",
        "ks.get_dummies(data=df_ks, columns=[\"Symbol\"]).head(1) # This is crazy easy too"
      ],
      "outputs": [],
      "execution_count": null,
      "metadata": {}
    },
    {
      "cell_type": "code",
      "source": [
        "%%time\n",
        "# I hate this\n",
        "from pyspark.ml.feature import StringIndexer,OneHotEncoderEstimator\n",
        "\n",
        "indexer = StringIndexer(inputCol=\"Symbol\", outputCol=\"SymbolIndex\")\n",
        "df_sp_indexed = indexer.fit(df_sp).transform(df_sp)\n",
        "\n",
        "encoder = OneHotEncoderEstimator(inputCols=[\"SymbolIndex\"],\n",
        "                                 outputCols=[\"SymbolVec\"])\n",
        "\n",
        "model = encoder.fit(df_sp_indexed)\n",
        "df_sp_encoded = model.transform(df_sp_indexed)\n",
        "df_sp_encoded.show(1)"
      ],
      "outputs": [],
      "execution_count": null,
      "metadata": {}
    },
    {
      "cell_type": "code",
      "source": [
        "%%time\n",
        "from optimus.ml.feature import string_to_index, one_hot_encoder\n",
        "\n",
        "df_sp_indexed = string_to_index(df_sp, input_cols=\"Symbol\")\n",
        "df_sp_encoded = one_hot_encoder(df_sp_indexed, \"Symbol***INDEX_TO_STRING\")\n",
        "df_sp_encoded.show(1)"
      ],
      "outputs": [],
      "execution_count": null,
      "metadata": {}
    },
    {
      "cell_type": "markdown",
      "source": [
        "## Plots"
      ],
      "metadata": {}
    },
    {
      "cell_type": "markdown",
      "source": [
        "### Pandas"
      ],
      "metadata": {}
    },
    {
      "cell_type": "code",
      "source": [
        "df_pd.plot.scatter(\"Open\",\"Volume\")"
      ],
      "outputs": [],
      "execution_count": null,
      "metadata": {}
    },
    {
      "cell_type": "code",
      "source": [
        "df_pd.boxplot(\"High\")"
      ],
      "outputs": [],
      "execution_count": null,
      "metadata": {}
    },
    {
      "cell_type": "code",
      "source": [
        "df_pd.hist(\"Low\")"
      ],
      "outputs": [],
      "execution_count": null,
      "metadata": {}
    },
    {
      "cell_type": "markdown",
      "source": [
        "### Koalas"
      ],
      "metadata": {}
    },
    {
      "cell_type": "code",
      "source": [
        "df_ks.hist(\"Low\")"
      ],
      "outputs": [],
      "execution_count": null,
      "metadata": {}
    },
    {
      "cell_type": "markdown",
      "source": [
        "### Spark"
      ],
      "metadata": {}
    },
    {
      "cell_type": "code",
      "source": [
        "# ..."
      ],
      "outputs": [],
      "execution_count": null,
      "metadata": {}
    },
    {
      "cell_type": "markdown",
      "source": [
        "### Optimus"
      ],
      "metadata": {}
    },
    {
      "cell_type": "code",
      "source": [
        "df_op.plot.box(\"High\")"
      ],
      "outputs": [],
      "execution_count": null,
      "metadata": {}
    },
    {
      "cell_type": "code",
      "source": [
        "df_op.plot.hist(\"Low\")"
      ],
      "outputs": [],
      "execution_count": null,
      "metadata": {}
    },
    {
      "cell_type": "code",
      "source": [
        "df_op.plot.scatter([\"Open\",\"Volume\"])"
      ],
      "outputs": [],
      "execution_count": null,
      "metadata": {}
    }
  ],
  "metadata": {
    "kernelspec": {
      "name": "python3",
      "language": "python",
      "display_name": "Python 3"
    },
    "language_info": {
      "name": "python",
      "version": "3.7.3",
      "mimetype": "text/x-python",
      "codemirror_mode": {
        "name": "ipython",
        "version": 3
      },
      "pygments_lexer": "ipython3",
      "nbconvert_exporter": "python",
      "file_extension": ".py"
    },
    "kernel_info": {
      "name": "python3"
    },
    "nteract": {
      "version": "0.2.0"
    }
  },
  "nbformat": 4,
  "nbformat_minor": 4
}